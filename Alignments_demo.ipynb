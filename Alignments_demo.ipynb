{
 "cells": [
  {
   "cell_type": "markdown",
   "metadata": {},
   "source": [
    "# Welcome to pyiunstir!\n",
    "\n",
    "You can start using the ALINE-powered (DOI: 10.1080/09296170802326681) alignment module by just:"
   ]
  },
  {
   "cell_type": "code",
   "execution_count": 1,
   "metadata": {},
   "outputs": [],
   "source": [
    "from pyiunstir.align import *"
   ]
  },
  {
   "cell_type": "markdown",
   "metadata": {},
   "source": [
    "### Two different alignment types can be performed\n",
    "\n",
    "### A) Pairwise:"
   ]
  },
  {
   "cell_type": "code",
   "execution_count": 2,
   "metadata": {},
   "outputs": [
    {
     "name": "stdout",
     "output_type": "stream",
     "text": [
      "Euskera: hama---bo-st-\n",
      "Iberian: -abaŕkeborste\n",
      "\n",
      "Distance:0.35185185185185186\n"
     ]
    }
   ],
   "source": [
    "# fifteen in euskera language (hamabost) and iberian (abaŕ ke borste)\n",
    "\n",
    "distance, al1, al2 = aline_compare('hamabost','abaŕkeborste')\n",
    "print(f'Euskera: {al1}\\nIberian: {al2}\\n\\nDistance:{distance}')"
   ]
  },
  {
   "cell_type": "markdown",
   "metadata": {},
   "source": [
    "### B) Multiple"
   ]
  },
  {
   "cell_type": "code",
   "execution_count": 3,
   "metadata": {},
   "outputs": [
    {
     "data": {
      "text/plain": [
       "['-iteŕok--e--na',\n",
       " '--teŕok--a--n-',\n",
       " 'biteŕoketetine',\n",
       " 'biteŕok--et--o',\n",
       " 'biteŕok--etan-',\n",
       " 'biteŕok--etine',\n",
       " 'biteŕok--a----',\n",
       " 'biteŕok--a--n-',\n",
       " '---eŕok--at--e',\n",
       " '---eŕok--ar---',\n",
       " '---eŕok--a----',\n",
       " '---eŕok--e----']"
      ]
     },
     "execution_count": 3,
     "metadata": {},
     "output_type": "execute_result"
    }
   ],
   "source": [
    "# The eŕok paradigm seems to be a verb with the meaning of \"to send\" or \"to give/recieve\" something.\n",
    "# The alignment reveals commonalities for prefixes and suffixes\n",
    "\n",
    "words = ['biteŕoka', 'biteŕokan', 'biteŕoketan', \n",
    "         'biteŕoketetine', 'biteŕoketine', \n",
    "         'biteŕoketo', 'eŕoka', 'eŕokar', 'eŕokate', \n",
    "         'eŕoke', 'iteŕokena', 'teŕokan']\n",
    "\n",
    "aline_mwa(words)"
   ]
  },
  {
   "cell_type": "markdown",
   "metadata": {},
   "source": [
    "### Thanks to the ALINE distance differences due to the encoding (dual vs. simplified for k/g changes) are minimized"
   ]
  },
  {
   "cell_type": "code",
   "execution_count": 4,
   "metadata": {},
   "outputs": [
    {
     "data": {
      "text/plain": [
       "['---eŕok--at--e',\n",
       " '---eŕok--ar---',\n",
       " '---eŕok--a----',\n",
       " '---eŕok--e----',\n",
       " 'bideŕog--a--n-',\n",
       " '-ideŕog--e--na',\n",
       " '--deŕog--a--n-',\n",
       " 'biteŕok--a----',\n",
       " 'biteŕoketetine',\n",
       " 'biteŕok--et--o',\n",
       " 'biteŕok--etan-',\n",
       " 'biteŕok--etine']"
      ]
     },
     "execution_count": 4,
     "metadata": {},
     "output_type": "execute_result"
    }
   ],
   "source": [
    "words_semidual = ['biteŕoka', 'bideŕogan', 'biteŕoketan', \n",
    "         'biteŕoketetine', 'biteŕoketine', \n",
    "         'biteŕoketo', 'eŕoka', 'eŕokar', 'eŕokate', \n",
    "         'eŕoke', 'ideŕogena', 'deŕogan']\n",
    "\n",
    "aline_mwa(words_semidual)"
   ]
  },
  {
   "cell_type": "markdown",
   "metadata": {},
   "source": [
    "### It can also be used with other languages such as indoeuropean ones:"
   ]
  },
  {
   "cell_type": "code",
   "execution_count": 5,
   "metadata": {},
   "outputs": [
    {
     "data": {
      "text/plain": [
       "['ha--yr',\n",
       " 'father',\n",
       " '-athir',\n",
       " 'fad-ar',\n",
       " 'pit--ŕ',\n",
       " 'pit-ar',\n",
       " 'pat-er',\n",
       " 'pac-ar']"
      ]
     },
     "execution_count": 5,
     "metadata": {},
     "output_type": "execute_result"
    }
   ],
   "source": [
    "# Father in a bunch of indoeuropean languages\n",
    "\n",
    "pater = ['father', 'fadar', 'pater', 'pitŕ', 'pitar', 'athir', 'hayr', 'pacar']\n",
    "aline_mwa(pater)\n"
   ]
  },
  {
   "cell_type": "markdown",
   "metadata": {},
   "source": [
    "### Some forms of the \"to clean\" verb in Spanish "
   ]
  },
  {
   "cell_type": "code",
   "execution_count": 6,
   "metadata": {},
   "outputs": [
    {
     "data": {
      "text/plain": [
       "['prelavar----',\n",
       " 'prelavad--o-',\n",
       " 'prelavasteis',\n",
       " '---lavasteis',\n",
       " '---lav----o-',\n",
       " '---lavara--s',\n",
       " '---lavaro--n',\n",
       " '---lavara---',\n",
       " '---lavar----',\n",
       " '---lavan-do-',\n",
       " '---lavad-<o-',\n",
       " '---lava-is--',\n",
       " '---lava-<se-',\n",
       " '---lavabamos',\n",
       " '---lav--amos']"
      ]
     },
     "execution_count": 6,
     "metadata": {},
     "output_type": "execute_result"
    }
   ],
   "source": [
    "verb = ['lavabamos', 'lavando', 'lavado', 'lavara', 'lavo', 'lavais', 'lavaras', 'lavase', 'lavasteis', 'lavamos', 'lavaron', 'lavar', 'prelavar', 'prelavado', 'prelavasteis']\n",
    "aline_mwa(verb)\n"
   ]
  }
 ],
 "metadata": {
  "kernelspec": {
   "display_name": "Python 3",
   "language": "python",
   "name": "python3"
  },
  "language_info": {
   "codemirror_mode": {
    "name": "ipython",
    "version": 3
   },
   "file_extension": ".py",
   "mimetype": "text/x-python",
   "name": "python",
   "nbconvert_exporter": "python",
   "pygments_lexer": "ipython3",
   "version": "3.6.11"
  }
 },
 "nbformat": 4,
 "nbformat_minor": 4
}
